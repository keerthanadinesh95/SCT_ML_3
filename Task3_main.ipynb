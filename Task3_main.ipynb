{
  "nbformat": 4,
  "nbformat_minor": 0,
  "metadata": {
    "colab": {
      "provenance": []
    },
    "kernelspec": {
      "name": "python3",
      "display_name": "Python 3"
    },
    "language_info": {
      "name": "python"
    }
  },
  "cells": [
    {
      "cell_type": "code",
      "source": [
        "from google.colab import files\n",
        "files.upload()  # ⬅️ Run this and upload kaggle.json when the window pops up.\n"
      ],
      "metadata": {
        "colab": {
          "base_uri": "https://localhost:8080/",
          "height": 90
        },
        "id": "4mX9NIF2y6vg",
        "outputId": "825b011a-4a1f-42d1-c474-e3b857f753a0"
      },
      "execution_count": 1,
      "outputs": [
        {
          "output_type": "display_data",
          "data": {
            "text/plain": [
              "<IPython.core.display.HTML object>"
            ],
            "text/html": [
              "\n",
              "     <input type=\"file\" id=\"files-22868381-1113-44eb-9020-9f1f14da3db4\" name=\"files[]\" multiple disabled\n",
              "        style=\"border:none\" />\n",
              "     <output id=\"result-22868381-1113-44eb-9020-9f1f14da3db4\">\n",
              "      Upload widget is only available when the cell has been executed in the\n",
              "      current browser session. Please rerun this cell to enable.\n",
              "      </output>\n",
              "      <script>// Copyright 2017 Google LLC\n",
              "//\n",
              "// Licensed under the Apache License, Version 2.0 (the \"License\");\n",
              "// you may not use this file except in compliance with the License.\n",
              "// You may obtain a copy of the License at\n",
              "//\n",
              "//      http://www.apache.org/licenses/LICENSE-2.0\n",
              "//\n",
              "// Unless required by applicable law or agreed to in writing, software\n",
              "// distributed under the License is distributed on an \"AS IS\" BASIS,\n",
              "// WITHOUT WARRANTIES OR CONDITIONS OF ANY KIND, either express or implied.\n",
              "// See the License for the specific language governing permissions and\n",
              "// limitations under the License.\n",
              "\n",
              "/**\n",
              " * @fileoverview Helpers for google.colab Python module.\n",
              " */\n",
              "(function(scope) {\n",
              "function span(text, styleAttributes = {}) {\n",
              "  const element = document.createElement('span');\n",
              "  element.textContent = text;\n",
              "  for (const key of Object.keys(styleAttributes)) {\n",
              "    element.style[key] = styleAttributes[key];\n",
              "  }\n",
              "  return element;\n",
              "}\n",
              "\n",
              "// Max number of bytes which will be uploaded at a time.\n",
              "const MAX_PAYLOAD_SIZE = 100 * 1024;\n",
              "\n",
              "function _uploadFiles(inputId, outputId) {\n",
              "  const steps = uploadFilesStep(inputId, outputId);\n",
              "  const outputElement = document.getElementById(outputId);\n",
              "  // Cache steps on the outputElement to make it available for the next call\n",
              "  // to uploadFilesContinue from Python.\n",
              "  outputElement.steps = steps;\n",
              "\n",
              "  return _uploadFilesContinue(outputId);\n",
              "}\n",
              "\n",
              "// This is roughly an async generator (not supported in the browser yet),\n",
              "// where there are multiple asynchronous steps and the Python side is going\n",
              "// to poll for completion of each step.\n",
              "// This uses a Promise to block the python side on completion of each step,\n",
              "// then passes the result of the previous step as the input to the next step.\n",
              "function _uploadFilesContinue(outputId) {\n",
              "  const outputElement = document.getElementById(outputId);\n",
              "  const steps = outputElement.steps;\n",
              "\n",
              "  const next = steps.next(outputElement.lastPromiseValue);\n",
              "  return Promise.resolve(next.value.promise).then((value) => {\n",
              "    // Cache the last promise value to make it available to the next\n",
              "    // step of the generator.\n",
              "    outputElement.lastPromiseValue = value;\n",
              "    return next.value.response;\n",
              "  });\n",
              "}\n",
              "\n",
              "/**\n",
              " * Generator function which is called between each async step of the upload\n",
              " * process.\n",
              " * @param {string} inputId Element ID of the input file picker element.\n",
              " * @param {string} outputId Element ID of the output display.\n",
              " * @return {!Iterable<!Object>} Iterable of next steps.\n",
              " */\n",
              "function* uploadFilesStep(inputId, outputId) {\n",
              "  const inputElement = document.getElementById(inputId);\n",
              "  inputElement.disabled = false;\n",
              "\n",
              "  const outputElement = document.getElementById(outputId);\n",
              "  outputElement.innerHTML = '';\n",
              "\n",
              "  const pickedPromise = new Promise((resolve) => {\n",
              "    inputElement.addEventListener('change', (e) => {\n",
              "      resolve(e.target.files);\n",
              "    });\n",
              "  });\n",
              "\n",
              "  const cancel = document.createElement('button');\n",
              "  inputElement.parentElement.appendChild(cancel);\n",
              "  cancel.textContent = 'Cancel upload';\n",
              "  const cancelPromise = new Promise((resolve) => {\n",
              "    cancel.onclick = () => {\n",
              "      resolve(null);\n",
              "    };\n",
              "  });\n",
              "\n",
              "  // Wait for the user to pick the files.\n",
              "  const files = yield {\n",
              "    promise: Promise.race([pickedPromise, cancelPromise]),\n",
              "    response: {\n",
              "      action: 'starting',\n",
              "    }\n",
              "  };\n",
              "\n",
              "  cancel.remove();\n",
              "\n",
              "  // Disable the input element since further picks are not allowed.\n",
              "  inputElement.disabled = true;\n",
              "\n",
              "  if (!files) {\n",
              "    return {\n",
              "      response: {\n",
              "        action: 'complete',\n",
              "      }\n",
              "    };\n",
              "  }\n",
              "\n",
              "  for (const file of files) {\n",
              "    const li = document.createElement('li');\n",
              "    li.append(span(file.name, {fontWeight: 'bold'}));\n",
              "    li.append(span(\n",
              "        `(${file.type || 'n/a'}) - ${file.size} bytes, ` +\n",
              "        `last modified: ${\n",
              "            file.lastModifiedDate ? file.lastModifiedDate.toLocaleDateString() :\n",
              "                                    'n/a'} - `));\n",
              "    const percent = span('0% done');\n",
              "    li.appendChild(percent);\n",
              "\n",
              "    outputElement.appendChild(li);\n",
              "\n",
              "    const fileDataPromise = new Promise((resolve) => {\n",
              "      const reader = new FileReader();\n",
              "      reader.onload = (e) => {\n",
              "        resolve(e.target.result);\n",
              "      };\n",
              "      reader.readAsArrayBuffer(file);\n",
              "    });\n",
              "    // Wait for the data to be ready.\n",
              "    let fileData = yield {\n",
              "      promise: fileDataPromise,\n",
              "      response: {\n",
              "        action: 'continue',\n",
              "      }\n",
              "    };\n",
              "\n",
              "    // Use a chunked sending to avoid message size limits. See b/62115660.\n",
              "    let position = 0;\n",
              "    do {\n",
              "      const length = Math.min(fileData.byteLength - position, MAX_PAYLOAD_SIZE);\n",
              "      const chunk = new Uint8Array(fileData, position, length);\n",
              "      position += length;\n",
              "\n",
              "      const base64 = btoa(String.fromCharCode.apply(null, chunk));\n",
              "      yield {\n",
              "        response: {\n",
              "          action: 'append',\n",
              "          file: file.name,\n",
              "          data: base64,\n",
              "        },\n",
              "      };\n",
              "\n",
              "      let percentDone = fileData.byteLength === 0 ?\n",
              "          100 :\n",
              "          Math.round((position / fileData.byteLength) * 100);\n",
              "      percent.textContent = `${percentDone}% done`;\n",
              "\n",
              "    } while (position < fileData.byteLength);\n",
              "  }\n",
              "\n",
              "  // All done.\n",
              "  yield {\n",
              "    response: {\n",
              "      action: 'complete',\n",
              "    }\n",
              "  };\n",
              "}\n",
              "\n",
              "scope.google = scope.google || {};\n",
              "scope.google.colab = scope.google.colab || {};\n",
              "scope.google.colab._files = {\n",
              "  _uploadFiles,\n",
              "  _uploadFilesContinue,\n",
              "};\n",
              "})(self);\n",
              "</script> "
            ]
          },
          "metadata": {}
        },
        {
          "output_type": "stream",
          "name": "stdout",
          "text": [
            "Saving kaggle.json to kaggle.json\n"
          ]
        },
        {
          "output_type": "execute_result",
          "data": {
            "text/plain": [
              "{'kaggle.json': b'{\"username\":\"keerthanadinesh1995\",\"key\":\"d8e844b026d3052f953e46956ce36c47\"}'}"
            ]
          },
          "metadata": {},
          "execution_count": 1
        }
      ]
    },
    {
      "cell_type": "code",
      "source": [
        "!mkdir -p ~/.kaggle\n",
        "!cp kaggle.json ~/.kaggle/\n",
        "!chmod 600 ~/.kaggle/kaggle.json\n"
      ],
      "metadata": {
        "id": "V2k9coXazq5l"
      },
      "execution_count": 16,
      "outputs": []
    },
    {
      "cell_type": "code",
      "source": [
        "!kaggle competitions download -c dogs-vs-cats\n"
      ],
      "metadata": {
        "id": "HiwphGPjz1Wh",
        "colab": {
          "base_uri": "https://localhost:8080/"
        },
        "outputId": "4becadf8-917c-4df3-9db8-211931940326"
      },
      "execution_count": 17,
      "outputs": [
        {
          "output_type": "stream",
          "name": "stdout",
          "text": [
            "dogs-vs-cats.zip: Skipping, found more recently modified local copy (use --force to force download)\n"
          ]
        }
      ]
    },
    {
      "cell_type": "code",
      "source": [
        "import zipfile\n",
        "\n",
        "with zipfile.ZipFile('/content/dogs-vs-cats.zip', 'r') as zip_ref:\n",
        "    zip_ref.extractall('/content/dogs-vs-cats')\n"
      ],
      "metadata": {
        "id": "BOh1kVjBz92o"
      },
      "execution_count": 18,
      "outputs": []
    },
    {
      "cell_type": "code",
      "source": [
        "import zipfile\n",
        "\n",
        "# Path to your ZIP file\n",
        "zip_path = '/content/dogs-vs-cats.zip'\n",
        "extract_path = '/content/dogs-vs-cats'\n",
        "\n",
        "# Unzipping\n",
        "with zipfile.ZipFile(zip_path, 'r') as zip_ref:\n",
        "    zip_ref.extractall(extract_path)\n",
        "\n",
        "print(\"Unzipping completed!\")\n"
      ],
      "metadata": {
        "colab": {
          "base_uri": "https://localhost:8080/"
        },
        "id": "sYQvV_OSDRvV",
        "outputId": "2953f3ff-88ea-4250-8312-96ebf26d4906"
      },
      "execution_count": 19,
      "outputs": [
        {
          "output_type": "stream",
          "name": "stdout",
          "text": [
            "Unzipping completed!\n"
          ]
        }
      ]
    },
    {
      "cell_type": "code",
      "source": [
        "import os\n",
        "\n",
        "# Listing the contents\n",
        "print(os.listdir('/content/dogs-vs-cats'))\n"
      ],
      "metadata": {
        "colab": {
          "base_uri": "https://localhost:8080/"
        },
        "id": "UTl1guv2Da1K",
        "outputId": "49323698-6609-4b44-c1e8-15ab78eff84a"
      },
      "execution_count": 20,
      "outputs": [
        {
          "output_type": "stream",
          "name": "stdout",
          "text": [
            "['sampleSubmission.csv', 'train', 'test1.zip', 'train.zip', 'test1']\n"
          ]
        }
      ]
    },
    {
      "cell_type": "code",
      "source": [
        "import zipfile\n",
        "\n",
        "train_zip_path = '/content/dogs-vs-cats/train.zip'\n",
        "train_extract_path = '/content/dogs-vs-cats/train'\n",
        "\n",
        "with zipfile.ZipFile(train_zip_path, 'r') as zip_ref:\n",
        "    zip_ref.extractall(train_extract_path)\n",
        "\n",
        "print(\"Train data extracted successfully!\")\n"
      ],
      "metadata": {
        "colab": {
          "base_uri": "https://localhost:8080/"
        },
        "id": "xQaUyzcbD2fl",
        "outputId": "9d301cd0-9c9a-4182-d70e-5a77c3804fd8"
      },
      "execution_count": 21,
      "outputs": [
        {
          "output_type": "stream",
          "name": "stdout",
          "text": [
            "Train data extracted successfully!\n"
          ]
        }
      ]
    },
    {
      "cell_type": "code",
      "source": [
        "test_zip_path = '/content/dogs-vs-cats/test1.zip'\n",
        "test_extract_path = '/content/dogs-vs-cats/test1'\n",
        "\n",
        "with zipfile.ZipFile(test_zip_path, 'r') as zip_ref:\n",
        "    zip_ref.extractall(test_extract_path)\n",
        "\n",
        "print(\"Test data extracted successfully!\")\n"
      ],
      "metadata": {
        "colab": {
          "base_uri": "https://localhost:8080/"
        },
        "id": "7R_9p-xGD8xm",
        "outputId": "b1ba6d22-06c5-4ff3-e4dd-276c207bf143"
      },
      "execution_count": 22,
      "outputs": [
        {
          "output_type": "stream",
          "name": "stdout",
          "text": [
            "Test data extracted successfully!\n"
          ]
        }
      ]
    },
    {
      "cell_type": "code",
      "source": [
        "import os\n",
        "\n",
        "print(\"Train files:\", len(os.listdir('/content/dogs-vs-cats/train')))\n",
        "print(\"Test files:\", len(os.listdir('/content/dogs-vs-cats/test1')))\n"
      ],
      "metadata": {
        "colab": {
          "base_uri": "https://localhost:8080/"
        },
        "id": "7l-UPrHlEBe6",
        "outputId": "6b9ed6bb-6d8d-4d93-c4af-e6cf1c71d507"
      },
      "execution_count": 23,
      "outputs": [
        {
          "output_type": "stream",
          "name": "stdout",
          "text": [
            "Train files: 1\n",
            "Test files: 1\n"
          ]
        }
      ]
    },
    {
      "cell_type": "code",
      "source": [
        "import zipfile\n",
        "\n",
        "# Extract train.zip\n",
        "with zipfile.ZipFile('/content/dogs-vs-cats/train.zip', 'r') as zip_ref:\n",
        "    zip_ref.extractall('/content/dogs-vs-cats/train/train')\n",
        "\n",
        "# Extract test1.zip\n",
        "with zipfile.ZipFile('/content/dogs-vs-cats/test1.zip', 'r') as zip_ref:\n",
        "    zip_ref.extractall('/content/dogs-vs-cats/test1/test1')\n",
        "\n",
        "# Check counts\n",
        "import os\n",
        "\n",
        "print(\"Train files:\", len(os.listdir('/content/dogs-vs-cats/train/train')))\n",
        "print(\"Test files:\", len(os.listdir('/content/dogs-vs-cats/test1/test1')))\n"
      ],
      "metadata": {
        "colab": {
          "base_uri": "https://localhost:8080/"
        },
        "id": "lqnhFhpfErSn",
        "outputId": "840fb20e-eb46-4f17-d71a-e6eaf454f329"
      },
      "execution_count": 24,
      "outputs": [
        {
          "output_type": "stream",
          "name": "stdout",
          "text": [
            "Train files: 25001\n",
            "Test files: 12501\n"
          ]
        }
      ]
    },
    {
      "cell_type": "code",
      "source": [
        "train_dir = '/content/dogs-vs-cats/train/train'\n",
        "test_dir = '/content/dogs-vs-cats/test1/test1'\n",
        "\n",
        "# Filter only jpg files\n",
        "train_images = [f for f in os.listdir(train_dir) if f.endswith('.jpg')]\n",
        "test_images = [f for f in os.listdir(test_dir) if f.endswith('.jpg')]\n",
        "\n",
        "print(\"Filtered Train Images:\", len(train_images))\n",
        "print(\"Filtered Test Images:\", len(test_images))\n"
      ],
      "metadata": {
        "colab": {
          "base_uri": "https://localhost:8080/"
        },
        "id": "RcHIbC25GHJ4",
        "outputId": "cff31746-0bcd-4dd7-bddd-95ec5da03fb5"
      },
      "execution_count": 28,
      "outputs": [
        {
          "output_type": "stream",
          "name": "stdout",
          "text": [
            "Filtered Train Images: 25000\n",
            "Filtered Test Images: 12500\n"
          ]
        }
      ]
    },
    {
      "cell_type": "code",
      "source": [
        "import os\n",
        "import cv2\n",
        "import numpy as np\n",
        "from sklearn.svm import SVC\n",
        "from sklearn.metrics import accuracy_score, classification_report\n",
        "from sklearn.model_selection import train_test_split, GridSearchCV\n",
        "from skimage.feature import hog\n",
        "\n",
        "# Paths\n",
        "train_dir = '/content/dogs-vs-cats/train/train'\n",
        "\n",
        "# List images\n",
        "all_images = [f for f in os.listdir(train_dir) if f.endswith('.jpg')]\n",
        "print(f\"Total images found: {len(all_images)}\")\n",
        "\n",
        "# Limit to 5000 images for faster training\n",
        "selected_images = all_images[:5000]\n",
        "\n",
        "# Prepare data\n",
        "X = []\n",
        "y = []\n",
        "\n",
        "print(\"Extracting HOG features...\")\n",
        "\n",
        "for img_name in selected_images:\n",
        "    img_path = os.path.join(train_dir, img_name)\n",
        "    image = cv2.imread(img_path, cv2.IMREAD_GRAYSCALE)\n",
        "    image = cv2.resize(image, (128, 128))\n",
        "\n",
        "    # Corrected HOG Feature extraction\n",
        "    features, _ = hog(\n",
        "        image,\n",
        "        orientations=9,\n",
        "        pixels_per_cell=(8, 8),\n",
        "        cells_per_block=(2, 2),\n",
        "        visualize=True,\n",
        "        channel_axis=None  # Corrected argument for newer skimage\n",
        "    )\n",
        "    X.append(features)\n",
        "\n",
        "    # Label extraction\n",
        "    label = 1 if 'dog' in img_name else 0\n",
        "    y.append(label)\n",
        "\n",
        "X = np.array(X)\n",
        "y = np.array(y)\n",
        "\n",
        "# Split dataset\n",
        "X_train, X_test, y_train, y_test = train_test_split(X, y, test_size=0.2, random_state=42)\n",
        "\n",
        "# SVM Model with GridSearchCV\n",
        "param_grid = {\n",
        "    'C': [0.1, 1, 10],\n",
        "    'kernel': ['linear', 'rbf'],\n",
        "    'gamma': ['scale', 'auto']\n",
        "}\n",
        "\n",
        "grid = GridSearchCV(SVC(), param_grid, cv=3, verbose=2, n_jobs=-1)\n",
        "\n",
        "print(\"Training SVM with GridSearch...\")\n",
        "grid.fit(X_train, y_train)\n",
        "\n",
        "print(f\"\\nBest parameters: {grid.best_params_}\")\n",
        "print(f\"Best cross-validation score: {grid.best_score_:.4f}\")\n",
        "\n",
        "# Predict & Evaluate\n",
        "y_pred = grid.predict(X_test)\n",
        "print(\"\\nFinal Accuracy on Test Data:\", accuracy_score(y_test, y_pred))\n",
        "print(\"\\nClassification Report:\\n\", classification_report(y_test, y_pred))\n"
      ],
      "metadata": {
        "colab": {
          "base_uri": "https://localhost:8080/"
        },
        "id": "KhdKq47FtheR",
        "outputId": "98944514-0da3-46bf-e539-bc117cf048e7"
      },
      "execution_count": 29,
      "outputs": [
        {
          "output_type": "stream",
          "name": "stdout",
          "text": [
            "Total images found: 25000\n",
            "Extracting HOG features...\n",
            "Training SVM with GridSearch...\n",
            "Fitting 3 folds for each of 12 candidates, totalling 36 fits\n",
            "\n",
            "Best parameters: {'C': 1, 'gamma': 'scale', 'kernel': 'rbf'}\n",
            "Best cross-validation score: 0.7300\n",
            "\n",
            "Final Accuracy on Test Data: 0.734\n",
            "\n",
            "Classification Report:\n",
            "               precision    recall  f1-score   support\n",
            "\n",
            "           0       0.71      0.75      0.73       483\n",
            "           1       0.75      0.72      0.74       517\n",
            "\n",
            "    accuracy                           0.73      1000\n",
            "   macro avg       0.73      0.73      0.73      1000\n",
            "weighted avg       0.73      0.73      0.73      1000\n",
            "\n"
          ]
        }
      ]
    },
    {
      "cell_type": "code",
      "source": [
        "import joblib\n",
        "\n",
        "# Save the trained GridSearchCV model\n",
        "joblib.dump(grid, '/content/svm_dog_cat_classifier_grid.pkl')\n",
        "\n",
        "print(\"✅ Model saved successfully as 'svm_dog_cat_classifier_grid.pkl'\")\n"
      ],
      "metadata": {
        "colab": {
          "base_uri": "https://localhost:8080/"
        },
        "id": "iJPx48qO9e0n",
        "outputId": "008da9d1-33ab-418b-f6c1-d34e44e438dd"
      },
      "execution_count": 30,
      "outputs": [
        {
          "output_type": "stream",
          "name": "stdout",
          "text": [
            "✅ Model saved successfully as 'svm_dog_cat_classifier_grid.pkl'\n"
          ]
        }
      ]
    },
    {
      "cell_type": "code",
      "source": [
        "# Load saved model\n",
        "grid_loaded = joblib.load('/content/svm_dog_cat_classifier_grid.pkl')\n",
        "\n",
        "# Use for prediction\n",
        "y_pred = grid_loaded.predict(X_test)\n"
      ],
      "metadata": {
        "id": "So4QpTyR9k8-"
      },
      "execution_count": 31,
      "outputs": []
    },
    {
      "cell_type": "code",
      "source": [
        "from sklearn.metrics import classification_report\n",
        "\n",
        "# Generate the report\n",
        "report = classification_report(y_test, y_pred)\n",
        "\n",
        "# Save it to a text file\n",
        "with open('/content/svm_classification_report.txt', 'w') as f:\n",
        "    f.write(\"Dog vs Cat Classification Report\\n\")\n",
        "    f.write(report)\n",
        "\n",
        "print(\"✅ Classification report saved as 'svm_classification_report.txt'\")\n"
      ],
      "metadata": {
        "colab": {
          "base_uri": "https://localhost:8080/"
        },
        "id": "HY1BMJvl-Cal",
        "outputId": "d04fb5d4-6dd8-46ab-c61d-b8a1c9eab67b"
      },
      "execution_count": 32,
      "outputs": [
        {
          "output_type": "stream",
          "name": "stdout",
          "text": [
            "✅ Classification report saved as 'svm_classification_report.txt'\n"
          ]
        }
      ]
    },
    {
      "cell_type": "code",
      "source": [
        "import matplotlib.pyplot as plt\n",
        "from sklearn.metrics import ConfusionMatrixDisplay, confusion_matrix\n",
        "\n",
        "# Predict using your test data\n",
        "y_pred = grid.predict(X_test)\n",
        "\n",
        "# Create confusion matrix\n",
        "cm = confusion_matrix(y_test, y_pred)\n",
        "disp = ConfusionMatrixDisplay(confusion_matrix=cm, display_labels=['Cat', 'Dog'])\n",
        "\n",
        "# Plot and save\n",
        "disp.plot(cmap=plt.cm.Blues)\n",
        "plt.title('Dogs vs Cats Classification - Confusion Matrix')\n",
        "plt.savefig('/content/confusion_matrix.png')\n",
        "plt.show()\n"
      ],
      "metadata": {
        "colab": {
          "base_uri": "https://localhost:8080/",
          "height": 472
        },
        "id": "6XYPL4OJ_FZQ",
        "outputId": "b6a6fc0f-0348-4f40-d621-a5162a9c468e"
      },
      "execution_count": 33,
      "outputs": [
        {
          "output_type": "display_data",
          "data": {
            "text/plain": [
              "<Figure size 640x480 with 2 Axes>"
            ],
            "image/png": "[encoded data removed]"
          },
          "metadata": {}
        }
      ]
    },
    {
      "cell_type": "code",
      "source": [
        "plt.figure(figsize=(6,4))\n",
        "plt.text(0.1, 0.8, f\"Model: SVM\\nAccuracy: {accuracy_score(y_test, y_pred):.2%}\\nBest Params: {grid.best_params_}\",\n",
        "         fontsize=14, color='black')\n",
        "plt.axis('off')\n",
        "plt.savefig('/content/model_summary.png')\n",
        "plt.show()\n"
      ],
      "metadata": {
        "colab": {
          "base_uri": "https://localhost:8080/",
          "height": 345
        },
        "id": "f59ejwYN_WSr",
        "outputId": "cc6f09df-40ea-4047-f2f3-53889a4fd6e2"
      },
      "execution_count": 35,
      "outputs": [
        {
          "output_type": "display_data",
          "data": {
            "text/plain": [
              "<Figure size 600x400 with 1 Axes>"
            ],
            "image/png": "[encoded data removed]"
          },
          "metadata": {}
        }
      ]
    },
    {
      "cell_type": "code",
      "source": [
        "from sklearn.metrics import classification_report\n",
        "import matplotlib.pyplot as plt\n",
        "\n",
        "# Generate report dictionary\n",
        "report = classification_report(y_test, y_pred, output_dict=True)\n",
        "\n",
        "# Extract values for plotting\n",
        "labels = ['Cat', 'Dog']\n",
        "precision = [report['0']['precision'], report['1']['precision']]\n",
        "recall = [report['0']['recall'], report['1']['recall']]\n",
        "f1 = [report['0']['f1-score'], report['1']['f1-score']]\n",
        "\n",
        "x = range(len(labels))\n",
        "\n",
        "plt.figure(figsize=(8,5))\n",
        "plt.bar(x, precision, width=0.2, label='Precision', align='center')\n",
        "plt.bar([i + 0.2 for i in x], recall, width=0.2, label='Recall', align='center')\n",
        "plt.bar([i + 0.4 for i in x], f1, width=0.2, label='F1-Score', align='center')\n",
        "\n",
        "plt.xticks([i + 0.2 for i in x], labels)\n",
        "plt.ylim(0,1)\n",
        "plt.title('Performance Metrics for Dog vs Cat Classifier')\n",
        "plt.legend()\n",
        "plt.savefig('/content/performance_metrics.png')\n",
        "plt.show()\n"
      ],
      "metadata": {
        "colab": {
          "base_uri": "https://localhost:8080/",
          "height": 468
        },
        "id": "alAqZwZ9_w5b",
        "outputId": "f0bf212e-622b-4be3-a4f8-3e8e5a53caaa"
      },
      "execution_count": 36,
      "outputs": [
        {
          "output_type": "display_data",
          "data": {
            "text/plain": [
              "<Figure size 800x500 with 1 Axes>"
            ],
            "image/png": "[encoded data removed]"
          },
          "metadata": {}
        }
      ]
    }
  ]
}